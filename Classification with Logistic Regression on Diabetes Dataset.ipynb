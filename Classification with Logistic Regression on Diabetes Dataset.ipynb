{
 "cells": [
  {
   "cell_type": "markdown",
   "id": "corporate-premium",
   "metadata": {},
   "source": [
    "## Classification on Diabetes Dataset"
   ]
  },
  {
   "cell_type": "code",
   "execution_count": 2,
   "id": "likely-light",
   "metadata": {},
   "outputs": [],
   "source": [
    "import numpy as np\n",
    "\n",
    "from sklearn.model_selection import train_test_split\n",
    "from sklearn.linear_model import LogisticRegression\n",
    "\n",
    "import matplotlib.pyplot as plt"
   ]
  },
  {
   "cell_type": "code",
   "execution_count": 3,
   "id": "signal-forty",
   "metadata": {},
   "outputs": [],
   "source": [
    "data = open(\"dataset/diabetes.data\")"
   ]
  },
  {
   "cell_type": "code",
   "execution_count": 4,
   "id": "bright-virtue",
   "metadata": {},
   "outputs": [],
   "source": [
    "data = data.readlines()"
   ]
  },
  {
   "cell_type": "code",
   "execution_count": 6,
   "id": "amino-lobby",
   "metadata": {},
   "outputs": [
    {
     "data": {
      "text/plain": [
       "['Pregnancies,Glucose,BloodPressure,SkinThickness,Insulin,BMI,DiabetesPedigreeFunction,Age,Label\\n',\n",
       " '6,148,72,35,0,33.6,0.627,50,1\\n',\n",
       " '1,85,66,29,0,26.6,0.351,31,0\\n',\n",
       " '8,183,64,0,0,23.3,0.672,32,1\\n',\n",
       " '1,89,66,23,94,28.1,0.167,21,0\\n']"
      ]
     },
     "execution_count": 6,
     "metadata": {},
     "output_type": "execute_result"
    }
   ],
   "source": [
    "data[:5]"
   ]
  },
  {
   "cell_type": "code",
   "execution_count": 7,
   "id": "special-typing",
   "metadata": {},
   "outputs": [],
   "source": [
    "for i in range(len(data)):\n",
    "    data[i] = data[i].strip('\\n')   # \"This\\n\"  == > \"This\""
   ]
  },
  {
   "cell_type": "code",
   "execution_count": 8,
   "id": "dirty-appointment",
   "metadata": {},
   "outputs": [
    {
     "data": {
      "text/plain": [
       "['Pregnancies,Glucose,BloodPressure,SkinThickness,Insulin,BMI,DiabetesPedigreeFunction,Age,Label',\n",
       " '6,148,72,35,0,33.6,0.627,50,1',\n",
       " '1,85,66,29,0,26.6,0.351,31,0',\n",
       " '8,183,64,0,0,23.3,0.672,32,1',\n",
       " '1,89,66,23,94,28.1,0.167,21,0']"
      ]
     },
     "execution_count": 8,
     "metadata": {},
     "output_type": "execute_result"
    }
   ],
   "source": [
    "data[:5]"
   ]
  },
  {
   "cell_type": "code",
   "execution_count": 9,
   "id": "binding-planning",
   "metadata": {},
   "outputs": [],
   "source": [
    "for i in range(len(data)):\n",
    "    data[i] = data[i].split(\",\") "
   ]
  },
  {
   "cell_type": "code",
   "execution_count": 10,
   "id": "behavioral-drove",
   "metadata": {},
   "outputs": [
    {
     "data": {
      "text/plain": [
       "[['Pregnancies',\n",
       "  'Glucose',\n",
       "  'BloodPressure',\n",
       "  'SkinThickness',\n",
       "  'Insulin',\n",
       "  'BMI',\n",
       "  'DiabetesPedigreeFunction',\n",
       "  'Age',\n",
       "  'Label'],\n",
       " ['6', '148', '72', '35', '0', '33.6', '0.627', '50', '1'],\n",
       " ['1', '85', '66', '29', '0', '26.6', '0.351', '31', '0'],\n",
       " ['8', '183', '64', '0', '0', '23.3', '0.672', '32', '1'],\n",
       " ['1', '89', '66', '23', '94', '28.1', '0.167', '21', '0']]"
      ]
     },
     "execution_count": 10,
     "metadata": {},
     "output_type": "execute_result"
    }
   ],
   "source": [
    "data[:5]"
   ]
  },
  {
   "cell_type": "code",
   "execution_count": 11,
   "id": "geographic-journal",
   "metadata": {},
   "outputs": [
    {
     "data": {
      "text/plain": [
       "['Pregnancies',\n",
       " 'Glucose',\n",
       " 'BloodPressure',\n",
       " 'SkinThickness',\n",
       " 'Insulin',\n",
       " 'BMI',\n",
       " 'DiabetesPedigreeFunction',\n",
       " 'Age',\n",
       " 'Label']"
      ]
     },
     "execution_count": 11,
     "metadata": {},
     "output_type": "execute_result"
    }
   ],
   "source": [
    "header = data[0]\n",
    "data.pop(0)"
   ]
  },
  {
   "cell_type": "code",
   "execution_count": 12,
   "id": "hybrid-romance",
   "metadata": {},
   "outputs": [
    {
     "data": {
      "text/plain": [
       "[['6', '148', '72', '35', '0', '33.6', '0.627', '50', '1'],\n",
       " ['1', '85', '66', '29', '0', '26.6', '0.351', '31', '0'],\n",
       " ['8', '183', '64', '0', '0', '23.3', '0.672', '32', '1'],\n",
       " ['1', '89', '66', '23', '94', '28.1', '0.167', '21', '0'],\n",
       " ['0', '137', '40', '35', '168', '43.1', '2.288', '33', '1']]"
      ]
     },
     "execution_count": 12,
     "metadata": {},
     "output_type": "execute_result"
    }
   ],
   "source": [
    "data[:5]"
   ]
  },
  {
   "cell_type": "code",
   "execution_count": 13,
   "id": "color-morrison",
   "metadata": {},
   "outputs": [],
   "source": [
    "y = []\n",
    "\n",
    "for i in range(len(data)):\n",
    "    y.append(int(data[i][-1]))\n",
    "    data[i].pop(-1)\n",
    "    \n",
    "    for j in range(len(data[i])):\n",
    "        data[i][j] = float(data[i][j])"
   ]
  },
  {
   "cell_type": "code",
   "execution_count": 14,
   "id": "stopped-former",
   "metadata": {},
   "outputs": [
    {
     "data": {
      "text/plain": [
       "[[6.0, 148.0, 72.0, 35.0, 0.0, 33.6, 0.627, 50.0],\n",
       " [1.0, 85.0, 66.0, 29.0, 0.0, 26.6, 0.351, 31.0],\n",
       " [8.0, 183.0, 64.0, 0.0, 0.0, 23.3, 0.672, 32.0],\n",
       " [1.0, 89.0, 66.0, 23.0, 94.0, 28.1, 0.167, 21.0],\n",
       " [0.0, 137.0, 40.0, 35.0, 168.0, 43.1, 2.288, 33.0]]"
      ]
     },
     "execution_count": 14,
     "metadata": {},
     "output_type": "execute_result"
    }
   ],
   "source": [
    "data[:5]"
   ]
  },
  {
   "cell_type": "code",
   "execution_count": 15,
   "id": "working-turkey",
   "metadata": {},
   "outputs": [],
   "source": [
    "data = np.asarray(data, dtype = np.float16)\n",
    "y = np.asarray(y, dtype = np.float16)"
   ]
  },
  {
   "cell_type": "code",
   "execution_count": 16,
   "id": "international-pattern",
   "metadata": {},
   "outputs": [],
   "source": [
    "X_train, X_test, y_train, y_test = train_test_split(data, y, test_size = 0.2, random_state = 42)    "
   ]
  },
  {
   "cell_type": "code",
   "execution_count": 17,
   "id": "rotary-investor",
   "metadata": {},
   "outputs": [
    {
     "data": {
      "text/plain": [
       "(614, 8)"
      ]
     },
     "execution_count": 17,
     "metadata": {},
     "output_type": "execute_result"
    }
   ],
   "source": [
    "X_train.shape"
   ]
  },
  {
   "cell_type": "code",
   "execution_count": 18,
   "id": "sublime-mathematics",
   "metadata": {},
   "outputs": [],
   "source": [
    "clf = LogisticRegression(random_state = 0, max_iter = 1000)  # clf -> classifier"
   ]
  },
  {
   "cell_type": "code",
   "execution_count": 19,
   "id": "registered-going",
   "metadata": {},
   "outputs": [
    {
     "data": {
      "text/plain": [
       "LogisticRegression(max_iter=1000, random_state=0)"
      ]
     },
     "execution_count": 19,
     "metadata": {},
     "output_type": "execute_result"
    }
   ],
   "source": [
    "clf.fit(X_train, y_train)"
   ]
  },
  {
   "cell_type": "code",
   "execution_count": 20,
   "id": "authorized-stylus",
   "metadata": {},
   "outputs": [
    {
     "data": {
      "text/plain": [
       "0.7467532467532467"
      ]
     },
     "execution_count": 20,
     "metadata": {},
     "output_type": "execute_result"
    }
   ],
   "source": [
    "clf.score(X_test, y_test)   # mean accuracy"
   ]
  },
  {
   "cell_type": "code",
   "execution_count": 21,
   "id": "controversial-suspension",
   "metadata": {},
   "outputs": [
    {
     "name": "stdout",
     "output_type": "stream",
     "text": [
      "The accuracy score is: 74.68 \n"
     ]
    }
   ],
   "source": [
    "print(\"The accuracy score is: %.2f \" %(100*clf.score(X_test, y_test)))"
   ]
  },
  {
   "cell_type": "markdown",
   "id": "color-biology",
   "metadata": {},
   "source": [
    "### L2 Regularization "
   ]
  },
  {
   "cell_type": "code",
   "execution_count": 22,
   "id": "spoken-stage",
   "metadata": {},
   "outputs": [],
   "source": [
    "clf = LogisticRegression(penalty = 'l2' ,random_state = 0, max_iter = 1000)  # clf -> classifier"
   ]
  },
  {
   "cell_type": "code",
   "execution_count": 23,
   "id": "sunrise-bouquet",
   "metadata": {},
   "outputs": [
    {
     "data": {
      "text/plain": [
       "LogisticRegression(max_iter=1000, random_state=0)"
      ]
     },
     "execution_count": 23,
     "metadata": {},
     "output_type": "execute_result"
    }
   ],
   "source": [
    "clf.fit(X_train, y_train)"
   ]
  },
  {
   "cell_type": "code",
   "execution_count": 24,
   "id": "hydraulic-stroke",
   "metadata": {},
   "outputs": [
    {
     "data": {
      "text/plain": [
       "0.7467532467532467"
      ]
     },
     "execution_count": 24,
     "metadata": {},
     "output_type": "execute_result"
    }
   ],
   "source": [
    "clf.score(X_test, y_test)"
   ]
  },
  {
   "cell_type": "markdown",
   "id": "collected-accident",
   "metadata": {},
   "source": [
    "### Classification + Feature Selection + Showing Decision Boundaries "
   ]
  },
  {
   "cell_type": "code",
   "execution_count": 25,
   "id": "vertical-marshall",
   "metadata": {},
   "outputs": [
    {
     "data": {
      "text/plain": [
       "(614, 8)"
      ]
     },
     "execution_count": 25,
     "metadata": {},
     "output_type": "execute_result"
    }
   ],
   "source": [
    "X_train.shape"
   ]
  },
  {
   "cell_type": "code",
   "execution_count": 27,
   "id": "answering-firewall",
   "metadata": {},
   "outputs": [
    {
     "name": "stdout",
     "output_type": "stream",
     "text": [
      "The correlation of variable 0 is: 0.208 \n",
      "The correlation of variable 1 is: 0.456 \n",
      "The correlation of variable 2 is: 0.082 \n",
      "The correlation of variable 3 is: 0.058 \n",
      "The correlation of variable 4 is: 0.108 \n",
      "The correlation of variable 5 is: 0.306 \n",
      "The correlation of variable 6 is: 0.155 \n",
      "The correlation of variable 7 is: 0.281 \n"
     ]
    }
   ],
   "source": [
    "for i in range(X_train.shape[1]):    # shape = (614, 8)\n",
    "    C = np.corrcoef(X_train[:,i],y_train)\n",
    "    print(\"The correlation of variable %d is: %.3f \"%(i,C[0,1]))"
   ]
  },
  {
   "cell_type": "code",
   "execution_count": 28,
   "id": "floral-three",
   "metadata": {},
   "outputs": [],
   "source": [
    "new_data = np.column_stack((data[:,1], data[:,5]))"
   ]
  },
  {
   "cell_type": "code",
   "execution_count": 29,
   "id": "decreased-deputy",
   "metadata": {},
   "outputs": [
    {
     "data": {
      "text/plain": [
       "(768, 2)"
      ]
     },
     "execution_count": 29,
     "metadata": {},
     "output_type": "execute_result"
    }
   ],
   "source": [
    "new_data.shape"
   ]
  },
  {
   "cell_type": "code",
   "execution_count": 30,
   "id": "closing-format",
   "metadata": {},
   "outputs": [],
   "source": [
    "X_train, X_test, y_train, y_test = train_test_split(new_data, y, test_size = 0.2, random_state = 42)    "
   ]
  },
  {
   "cell_type": "code",
   "execution_count": 31,
   "id": "atlantic-scanning",
   "metadata": {},
   "outputs": [],
   "source": [
    "clf = LogisticRegression(max_iter = 1000)"
   ]
  },
  {
   "cell_type": "code",
   "execution_count": 32,
   "id": "suffering-wallpaper",
   "metadata": {},
   "outputs": [
    {
     "data": {
      "text/plain": [
       "LogisticRegression(max_iter=1000)"
      ]
     },
     "execution_count": 32,
     "metadata": {},
     "output_type": "execute_result"
    }
   ],
   "source": [
    "clf.fit(X_train, y_train)"
   ]
  },
  {
   "cell_type": "code",
   "execution_count": 33,
   "id": "established-pendant",
   "metadata": {},
   "outputs": [
    {
     "data": {
      "text/plain": [
       "0.7662337662337663"
      ]
     },
     "execution_count": 33,
     "metadata": {},
     "output_type": "execute_result"
    }
   ],
   "source": [
    "clf.score(X_test,y_test) "
   ]
  },
  {
   "cell_type": "code",
   "execution_count": 34,
   "id": "serial-episode",
   "metadata": {},
   "outputs": [
    {
     "name": "stdout",
     "output_type": "stream",
     "text": [
      "Glucose\n",
      "BMI\n"
     ]
    }
   ],
   "source": [
    "print(header[1])\n",
    "print(header[5])"
   ]
  },
  {
   "cell_type": "code",
   "execution_count": 35,
   "id": "occasional-combining",
   "metadata": {},
   "outputs": [],
   "source": [
    "b = clf.intercept_[0]\n",
    "w1, w2 = clf.coef_.T\n",
    "\n",
    "\n",
    "c = -b/w2\n",
    "m = -w1/w2"
   ]
  },
  {
   "cell_type": "code",
   "execution_count": 36,
   "id": "joint-blackberry",
   "metadata": {},
   "outputs": [
    {
     "data": {
      "text/plain": [
       "array([[0.03480445],\n",
       "       [0.08425297]])"
      ]
     },
     "execution_count": 36,
     "metadata": {},
     "output_type": "execute_result"
    }
   ],
   "source": [
    "clf.coef_.T"
   ]
  },
  {
   "cell_type": "code",
   "execution_count": 37,
   "id": "located-clerk",
   "metadata": {},
   "outputs": [
    {
     "data": {
      "image/png": "[encoded data removed]",
      "text/plain": [
       "<Figure size 1332x756 with 1 Axes>"
      ]
     },
     "metadata": {
      "needs_background": "light"
     },
     "output_type": "display_data"
    }
   ],
   "source": [
    "fig = plt.gcf()\n",
    "fig.set_size_inches(18.5, 10.5)\n",
    "\n",
    "# Plot the data and the classification with the decision boundary.\n",
    "xmin, xmax = -1, 300\n",
    "ymin, ymax = -1, 70\n",
    "xd = np.array([xmin, xmax])\n",
    "yd = m*xd + c\n",
    "plt.plot(xd, yd, 'k', lw=1, ls='--')\n",
    "plt.fill_between(xd, yd, ymin, color='tab:blue', alpha=0.2)\n",
    "plt.fill_between(xd, yd, ymax, color='tab:orange', alpha=0.2)\n",
    "\n",
    "plt.scatter(*X_test[y_test==0].T, s=80, alpha=0.8)\n",
    "plt.scatter(*X_test[y_test==1].T, s=80, alpha=0.8)\n",
    "plt.xlim(xmin, xmax)\n",
    "plt.ylim(ymin, ymax)\n",
    "plt.ylabel(r'$x_2$', size = 30)\n",
    "plt.xlabel(r'$x_1$', size = 30)\n",
    "\n",
    "plt.show()"
   ]
  },
  {
   "cell_type": "code",
   "execution_count": null,
   "id": "occasional-failing",
   "metadata": {},
   "outputs": [],
   "source": []
  }
 ],
 "metadata": {
  "kernelspec": {
   "display_name": "Python 3",
   "language": "python",
   "name": "python3"
  },
  "language_info": {
   "codemirror_mode": {
    "name": "ipython",
    "version": 3
   },
   "file_extension": ".py",
   "mimetype": "text/x-python",
   "name": "python",
   "nbconvert_exporter": "python",
   "pygments_lexer": "ipython3",
   "version": "3.7.9"
  }
 },
 "nbformat": 4,
 "nbformat_minor": 5
}
